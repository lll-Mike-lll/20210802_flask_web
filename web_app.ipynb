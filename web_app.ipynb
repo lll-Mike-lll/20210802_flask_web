{
 "cells": [
  {
   "cell_type": "code",
   "execution_count": 1,
   "id": "5ce6e48c",
   "metadata": {},
   "outputs": [
    {
     "name": "stdout",
     "output_type": "stream",
     "text": [
      " * Serving Flask app \"__main__\" (lazy loading)\n",
      " * Environment: production\n",
      "\u001b[31m   WARNING: This is a development server. Do not use it in a production deployment.\u001b[0m\n",
      "\u001b[2m   Use a production WSGI server instead.\u001b[0m\n",
      " * Debug mode: on\n"
     ]
    },
    {
     "name": "stderr",
     "output_type": "stream",
     "text": [
      " * Running on http://127.0.0.1:5000/ (Press CTRL+C to quit)\n",
      " * Restarting with fsevents reloader\n"
     ]
    },
    {
     "ename": "SystemExit",
     "evalue": "1",
     "output_type": "error",
     "traceback": [
      "An exception has occurred, use %tb to see the full traceback.\n",
      "\u001b[0;31mSystemExit\u001b[0m\u001b[0;31m:\u001b[0m 1\n"
     ]
    },
    {
     "name": "stderr",
     "output_type": "stream",
     "text": [
      "/Users/mm/opt/anaconda3/lib/python3.8/site-packages/IPython/core/interactiveshell.py:3445: UserWarning: To exit: use 'exit', 'quit', or Ctrl-D.\n",
      "  warn(\"To exit: use 'exit', 'quit', or Ctrl-D.\", stacklevel=1)\n"
     ]
    }
   ],
   "source": [
    "import flask\n",
    "\n",
    "\n",
    "# Create the application.\n",
    "APP = flask.Flask(__name__)\n",
    "\n",
    "\n",
    "@APP.route('/')\n",
    "def index():\n",
    "    \"\"\" Displays the index page accessible at '/'\n",
    "    \"\"\"\n",
    "    return flask.render_template('index.html')\n",
    "\n",
    "\n",
    "if __name__ == '__main__':\n",
    "    APP.debug=True\n",
    "    APP.run()"
   ]
  },
  {
   "cell_type": "code",
   "execution_count": 2,
   "id": "ef456025",
   "metadata": {},
   "outputs": [],
   "source": [
    "! exit"
   ]
  },
  {
   "cell_type": "code",
   "execution_count": null,
   "id": "c4222a2e",
   "metadata": {},
   "outputs": [],
   "source": []
  }
 ],
 "metadata": {
  "kernelspec": {
   "display_name": "Python 3",
   "language": "python",
   "name": "python3"
  },
  "language_info": {
   "codemirror_mode": {
    "name": "ipython",
    "version": 3
   },
   "file_extension": ".py",
   "mimetype": "text/x-python",
   "name": "python",
   "nbconvert_exporter": "python",
   "pygments_lexer": "ipython3",
   "version": "3.8.8"
  }
 },
 "nbformat": 4,
 "nbformat_minor": 5
}
